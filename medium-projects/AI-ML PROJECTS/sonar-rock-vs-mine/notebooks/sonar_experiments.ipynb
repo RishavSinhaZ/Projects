{
 "cells": [
  {
   "cell_type": "markdown",
   "id": "211c3f7b",
   "metadata": {},
   "source": [
    "Data Loading & Exploration"
   ]
  },
  {
   "cell_type": "code",
   "execution_count": null,
   "id": "e6567916",
   "metadata": {},
   "outputs": [],
   "source": [
    "import pandas as pd\n",
    "data = pd.read_csv(\"data/sonar.csv\")\n",
    "data.head()\n",
    "data.describe()\n",
    "data['label'].value_counts()\n"
   ]
  },
  {
   "cell_type": "markdown",
   "id": "d93503ef",
   "metadata": {},
   "source": [
    "Model Training"
   ]
  },
  {
   "cell_type": "code",
   "execution_count": null,
   "id": "b133d0bb",
   "metadata": {},
   "outputs": [],
   "source": [
    "from sklearn.linear_model import LogisticRegression\n",
    "model = LogisticRegression()\n",
    "model.fit(X_train, y_train)\n"
   ]
  },
  {
   "cell_type": "markdown",
   "id": "2c070cd7",
   "metadata": {},
   "source": [
    "Saving Model"
   ]
  },
  {
   "cell_type": "code",
   "execution_count": null,
   "id": "dca2969f",
   "metadata": {},
   "outputs": [],
   "source": [
    "import joblib\n",
    "joblib.dump(model, \"models/sonar_model.pkl\")\n"
   ]
  }
 ],
 "metadata": {
  "language_info": {
   "name": "python"
  }
 },
 "nbformat": 4,
 "nbformat_minor": 5
}
